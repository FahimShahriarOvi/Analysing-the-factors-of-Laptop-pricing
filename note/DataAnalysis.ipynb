{
 "cells": [
  {
   "cell_type": "markdown",
   "metadata": {},
   "source": [
    "1. **Loading needed Library**"
   ]
  },
  {
   "cell_type": "code",
   "execution_count": 1,
   "metadata": {},
   "outputs": [],
   "source": [
    "import pandas as panda\n",
    "import matplotlib.pyplot as plt"
   ]
  },
  {
   "cell_type": "markdown",
   "metadata": {},
   "source": [
    "2. **Loading the dataset from csv file**"
   ]
  },
  {
   "cell_type": "code",
   "execution_count": 4,
   "metadata": {},
   "outputs": [],
   "source": [
    "data = panda.read_csv(\"../data/laptop_price - dataset.csv\")"
   ]
  },
  {
   "cell_type": "markdown",
   "metadata": {},
   "source": [
    "3. **checking the columns and the range**"
   ]
  },
  {
   "cell_type": "code",
   "execution_count": 7,
   "metadata": {},
   "outputs": [
    {
     "name": "stdout",
     "output_type": "stream",
     "text": [
      "<class 'pandas.core.frame.DataFrame'>\n",
      "RangeIndex: 1275 entries, 0 to 1274\n",
      "Data columns (total 15 columns):\n",
      " #   Column               Non-Null Count  Dtype  \n",
      "---  ------               --------------  -----  \n",
      " 0   Company              1275 non-null   object \n",
      " 1   Product              1275 non-null   object \n",
      " 2   TypeName             1275 non-null   object \n",
      " 3   Inches               1275 non-null   float64\n",
      " 4   ScreenResolution     1275 non-null   object \n",
      " 5   CPU_Company          1275 non-null   object \n",
      " 6   CPU_Type             1275 non-null   object \n",
      " 7   CPU_Frequency (GHz)  1275 non-null   float64\n",
      " 8   RAM (GB)             1275 non-null   int64  \n",
      " 9   Memory               1275 non-null   object \n",
      " 10  GPU_Company          1275 non-null   object \n",
      " 11  GPU_Type             1275 non-null   object \n",
      " 12  OpSys                1275 non-null   object \n",
      " 13  Weight (kg)          1275 non-null   float64\n",
      " 14  Price (Euro)         1275 non-null   float64\n",
      "dtypes: float64(4), int64(1), object(10)\n",
      "memory usage: 149.5+ KB\n"
     ]
    }
   ],
   "source": [
    "data.info()"
   ]
  },
  {
   "cell_type": "code",
   "execution_count": null,
   "metadata": {},
   "outputs": [],
   "source": [
    "print(data.describe()) # all numerical columns"
   ]
  },
  {
   "cell_type": "code",
   "execution_count": null,
   "metadata": {},
   "outputs": [],
   "source": [
    "print(data['OpSys'].unique())"
   ]
  },
  {
   "cell_type": "code",
   "execution_count": 14,
   "metadata": {},
   "outputs": [
    {
     "name": "stdout",
     "output_type": "stream",
     "text": [
      "106\n"
     ]
    }
   ],
   "source": [
    "print(data['GPU_Type'].nunique())"
   ]
  },
  {
   "cell_type": "markdown",
   "metadata": {},
   "source": [
    "**4. Calculating the mean, median, variance and standard devition all numerical value**"
   ]
  },
  {
   "cell_type": "code",
   "execution_count": null,
   "metadata": {},
   "outputs": [],
   "source": [
    "print(data[\"Price (Euro)\"].mean())\n",
    "print(data[\"Price (Euro)\"].median())\n",
    "print(data[\"Price (Euro)\"].var())\n",
    "print(data[\"Price (Euro)\"].std())"
   ]
  },
  {
   "cell_type": "markdown",
   "metadata": {},
   "source": [
    "**5. Calculating the frequency and percentage of each type of values of categorical data**"
   ]
  },
  {
   "cell_type": "code",
   "execution_count": null,
   "metadata": {},
   "outputs": [],
   "source": [
    "freq = data[\"OpSys\"].value_counts()\n",
    "percent = data[\"OpSys\"].value_counts(normalize=True) * 100\n",
    "\n",
    "result = panda.DataFrame({\"Frequency\": freq, \"Percentage\": percent.round(2)})\n",
    "\n",
    "result.to_csv(\"../data/Complete.csv\")\n",
    "\n",
    "trimmed = panda.concat([result.head(5), result.tail(5)])\n",
    "\n",
    "trimmed.to_csv(\"../data/trimmed.csv\")"
   ]
  },
  {
   "cell_type": "markdown",
   "metadata": {},
   "source": [
    "**6. Ploting bar chart, line graph and pie chat**"
   ]
  },
  {
   "cell_type": "markdown",
   "metadata": {},
   "source": [
    "Bar Chart: Average Price By Company"
   ]
  },
  {
   "cell_type": "code",
   "execution_count": null,
   "metadata": {},
   "outputs": [],
   "source": [
    "avg_price_by_company = data.groupby(\"Company\")[\"Price (Euro)\"].mean().sort_values()\n",
    "\n",
    "plt.figure(figsize=(10, 6))\n",
    "plt.bar(avg_price_by_company.index, avg_price_by_company.values)\n",
    "plt.xticks(rotation=45)\n",
    "plt.title(\"Average Laptop Price by Company\")\n",
    "plt.xlabel(\"Company\")\n",
    "plt.ylabel(\"Average Price (Euro)\")\n",
    "plt.tight_layout()\n",
    "plt.show()\n"
   ]
  },
  {
   "cell_type": "markdown",
   "metadata": {},
   "source": [
    "Line Graph: Average Price By Ram (GB)"
   ]
  },
  {
   "cell_type": "code",
   "execution_count": null,
   "metadata": {},
   "outputs": [],
   "source": [
    "avg_price_by_ram = data.groupby(\"RAM (GB)\")[\"Price (Euro)\"].mean().sort_values()\n",
    "\n",
    "plt.figure(figsize=(10, 6))\n",
    "plt.plot(avg_price_by_ram.index, avg_price_by_ram.values, marker=\"o\")\n",
    "plt.xticks(rotation=45)\n",
    "plt.title(\"Average Laptop Price by Ram (GB)\")\n",
    "plt.xlabel(\"RAM (GB)\")\n",
    "plt.ylabel(\"Average Price (Euro)\")\n",
    "plt.tight_layout()\n",
    "plt.show()"
   ]
  },
  {
   "cell_type": "markdown",
   "metadata": {},
   "source": [
    "Bar Chart: Average Price by CPU Company"
   ]
  },
  {
   "cell_type": "code",
   "execution_count": null,
   "metadata": {},
   "outputs": [],
   "source": [
    "avg_price_by_cpu = data.groupby(\"CPU_Company\")[\"Price (Euro)\"].mean().sort_values()\n",
    "\n",
    "plt.figure(figsize=(5,5))\n",
    "plt.bar(avg_price_by_cpu.index, avg_price_by_cpu.values)\n",
    "plt.xticks(rotation=45)\n",
    "plt.title(\"Average Laptop Price by CPU_Company\")\n",
    "plt.xlabel(\"CPU_Company\")\n",
    "plt.ylabel(\"Average Price (Euro)\")\n",
    "plt.tight_layout()\n",
    "plt.show()"
   ]
  },
  {
   "cell_type": "markdown",
   "metadata": {},
   "source": [
    "Line Graph: Price Trend by Weight"
   ]
  },
  {
   "cell_type": "code",
   "execution_count": null,
   "metadata": {},
   "outputs": [],
   "source": [
    "df_sorted_by_weight = data.sort_values('Weight (kg)')\n",
    "plt.figure(figsize=(15,6))\n",
    "plt.plot(df_sorted_by_weight['Weight (kg)'], df_sorted_by_weight['Price (Euro)'], marker='o', linestyle='dashed', linewidth=1)\n",
    "plt.title(\"Price Trend by Laptop Weight\")\n",
    "plt.xlabel(\"Weight (kg)\")\n",
    "plt.ylabel(\"Price (Euro)\")\n",
    "plt.tight_layout()\n",
    "plt.show()"
   ]
  },
  {
   "cell_type": "markdown",
   "metadata": {},
   "source": [
    "Line Graph: Price by Screen Size"
   ]
  },
  {
   "cell_type": "code",
   "execution_count": null,
   "metadata": {},
   "outputs": [],
   "source": [
    "df_sorted_by_screen_size = data.sort_values('Inches')\n",
    "plt.figure(figsize=(10,5))\n",
    "plt.plot(df_sorted_by_screen_size['Inches'], df_sorted_by_screen_size['Price (Euro)'], marker='o', linestyle='dashed', linewidth=1)\n",
    "plt.title(\"Price Trend by Laptop Screen Size\")\n",
    "plt.xlabel(\"Screen Size (Inches)\")\n",
    "plt.ylabel(\"Price (Euro)\")\n",
    "plt.tight_layout()\n",
    "plt.show()"
   ]
  },
  {
   "cell_type": "markdown",
   "metadata": {},
   "source": [
    "Pie Chart: Market Share by Company"
   ]
  },
  {
   "cell_type": "code",
   "execution_count": null,
   "metadata": {},
   "outputs": [],
   "source": [
    "company_share = data['Company'].value_counts()\n",
    "plt.figure(figsize=(5,5))\n",
    "company_share.head(7).plot(kind='pie', autopct='%1.1f%%', startangle=140, cmap='tab20')\n",
    "plt.title(\"Market Share by Company (Top 7)\")\n",
    "plt.ylabel(\"\")\n",
    "plt.tight_layout()\n",
    "plt.show()"
   ]
  },
  {
   "cell_type": "markdown",
   "metadata": {},
   "source": [
    "Pie Chart: Operating System Distribution"
   ]
  },
  {
   "cell_type": "code",
   "execution_count": null,
   "metadata": {},
   "outputs": [],
   "source": [
    "op_dist = data['OpSys'].value_counts()\n",
    "plt.figure(figsize=(5,5))\n",
    "op_dist.head(5).plot(kind='pie', autopct='%1.1f%%', startangle=140, cmap='tab20')\n",
    "plt.title(\"Operating System Distribition (Top 5)\")\n",
    "plt.ylabel(\"\")\n",
    "plt.tight_layout()\n",
    "plt.show()"
   ]
  },
  {
   "cell_type": "markdown",
   "metadata": {},
   "source": [
    "Pie Chart: GPU Company Distribution"
   ]
  },
  {
   "cell_type": "code",
   "execution_count": null,
   "metadata": {},
   "outputs": [],
   "source": [
    "gpu_dist = data['GPU_Company'].value_counts()\n",
    "plt.figure(figsize=(5,5))\n",
    "gpu_dist.plot(kind='pie', autopct='%1.1f%%', startangle=140, colors=plt.cm.Paired.colors)\n",
    "plt.title(\"GPU Company Distribution\")\n",
    "plt.ylabel(\"\")\n",
    "plt.tight_layout()\n",
    "plt.show()"
   ]
  },
  {
   "cell_type": "markdown",
   "metadata": {},
   "source": [
    " Box Plot: Price by Company (Not Used)"
   ]
  },
  {
   "cell_type": "code",
   "execution_count": null,
   "metadata": {},
   "outputs": [],
   "source": [
    "plt.figure(figsize=(12,6))\n",
    "data.boxplot(column='Price (Euro)', by='Company', rot=90)\n",
    "plt.title(\"Laptop Price Distribution by Company\")\n",
    "plt.suptitle(\"\") \n",
    "plt.xlabel(\"Company\")\n",
    "plt.ylabel(\"Price (Euro)\")\n",
    "plt.tight_layout()\n",
    "plt.show()"
   ]
  },
  {
   "cell_type": "markdown",
   "metadata": {},
   "source": [
    "**7. Correlation Heat Map**"
   ]
  },
  {
   "cell_type": "code",
   "execution_count": null,
   "metadata": {},
   "outputs": [],
   "source": [
    "numeric_df = data.select_dtypes(include=[\"float64\", \"int64\"])\n",
    "corr_matrix = numeric_df.corr().round(3)\n",
    "corr_matrix.to_csv(\"../data/correlation_matrix.csv\")"
   ]
  },
  {
   "cell_type": "markdown",
   "metadata": {},
   "source": [
    "**8. Missing Value**"
   ]
  },
  {
   "cell_type": "code",
   "execution_count": null,
   "metadata": {},
   "outputs": [],
   "source": []
  },
  {
   "cell_type": "markdown",
   "metadata": {},
   "source": [
    "**9. Cheking skewness and visual**"
   ]
  },
  {
   "cell_type": "code",
   "execution_count": null,
   "metadata": {},
   "outputs": [],
   "source": [
    "print(\"Skewness of Price:\", data[\"Price (Euro)\"].skew().round(3))"
   ]
  },
  {
   "cell_type": "code",
   "execution_count": null,
   "metadata": {},
   "outputs": [],
   "source": [
    "plt.figure(figsize=(8, 5))\n",
    "plt.hist(data[\"Price (Euro)\"], bins=30, color=\"skyblue\", edgecolor=\"black\")\n",
    "plt.title(\"Distribution of Laptop Prices\")\n",
    "plt.xlabel(\"Price (Euro)\")\n",
    "plt.ylabel(\"Frequency\")\n",
    "plt.grid(True)\n",
    "plt.show()"
   ]
  }
 ],
 "metadata": {
  "kernelspec": {
   "display_name": "base",
   "language": "python",
   "name": "python3"
  },
  "language_info": {
   "codemirror_mode": {
    "name": "ipython",
    "version": 3
   },
   "file_extension": ".py",
   "mimetype": "text/x-python",
   "name": "python",
   "nbconvert_exporter": "python",
   "pygments_lexer": "ipython3",
   "version": "3.12.7"
  }
 },
 "nbformat": 4,
 "nbformat_minor": 2
}
