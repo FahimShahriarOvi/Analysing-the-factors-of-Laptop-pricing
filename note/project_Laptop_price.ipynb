{
 "cells": [
  {
   "cell_type": "markdown",
   "id": "770b94fc",
   "metadata": {},
   "source": [
    "# **Analysing the factors of Laptop pricing**"
   ]
  },
  {
   "cell_type": "markdown",
   "id": "975de5cc",
   "metadata": {},
   "source": [
    "## **Import Packages**"
   ]
  },
  {
   "cell_type": "code",
   "execution_count": 1,
   "id": "d30cec7d",
   "metadata": {},
   "outputs": [],
   "source": [
    "import pandas as pd\n",
    "from sklearn.model_selection import train_test_split\n",
    "from sklearn.linear_model import LinearRegression"
   ]
  },
  {
   "cell_type": "markdown",
   "id": "4b4fd3de",
   "metadata": {},
   "source": [
    "## **Load Data**"
   ]
  },
  {
   "cell_type": "code",
   "execution_count": 2,
   "id": "0a924541",
   "metadata": {},
   "outputs": [],
   "source": [
    "df = pd.read_csv(\"../data/laptop_price - dataset.csv\")"
   ]
  },
  {
   "cell_type": "markdown",
   "id": "dbf5a35d",
   "metadata": {},
   "source": [
    "## **Data Preparation**"
   ]
  },
  {
   "cell_type": "markdown",
   "id": "625019fa",
   "metadata": {},
   "source": [
    "### **Data Seperation As X and Y**"
   ]
  },
  {
   "cell_type": "code",
   "execution_count": 3,
   "id": "3c551434",
   "metadata": {},
   "outputs": [],
   "source": [
    "y = df[\"Price (Euro)\"]\n",
    "x = df.drop(\"Price (Euro)\", axis=1)"
   ]
  },
  {
   "cell_type": "markdown",
   "id": "9f598045",
   "metadata": {},
   "source": [
    "### **Data spliting**"
   ]
  },
  {
   "cell_type": "code",
   "execution_count": 4,
   "id": "2fa60c03",
   "metadata": {},
   "outputs": [],
   "source": [
    "x_train, x_test, y_train, y_test = train_test_split(x, y, test_size=0.2, random_state=42)"
   ]
  },
  {
   "cell_type": "markdown",
   "id": "0665d8c4",
   "metadata": {},
   "source": [
    "## **Model Building**"
   ]
  },
  {
   "cell_type": "markdown",
   "id": "9c321d9c",
   "metadata": {},
   "source": [
    "### **Linear Regression**"
   ]
  },
  {
   "cell_type": "code",
   "execution_count": null,
   "id": "142a495f",
   "metadata": {},
   "outputs": [],
   "source": [
    "lr = LinearRegression()\n",
    "lr.fit(x_train, y_train)"
   ]
  }
 ],
 "metadata": {
  "kernelspec": {
   "display_name": "base",
   "language": "python",
   "name": "python3"
  },
  "language_info": {
   "codemirror_mode": {
    "name": "ipython",
    "version": 3
   },
   "file_extension": ".py",
   "mimetype": "text/x-python",
   "name": "python",
   "nbconvert_exporter": "python",
   "pygments_lexer": "ipython3",
   "version": "3.12.7"
  }
 },
 "nbformat": 4,
 "nbformat_minor": 5
}
