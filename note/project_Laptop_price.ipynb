{
 "cells": [
  {
   "cell_type": "markdown",
   "id": "770b94fc",
   "metadata": {},
   "source": [
    "# **Analysing the factors of Laptop pricing**"
   ]
  },
  {
   "cell_type": "markdown",
   "id": "975de5cc",
   "metadata": {},
   "source": [
    "## **Import Packages**"
   ]
  },
  {
   "cell_type": "code",
   "execution_count": 13,
   "id": "d30cec7d",
   "metadata": {},
   "outputs": [],
   "source": [
    "import pandas as pd\n",
    "import numpy as np\n",
    "from sklearn.model_selection import train_test_split\n",
    "from sklearn.linear_model import LinearRegression\n",
    "from sklearn.preprocessing import LabelEncoder\n",
    "from sklearn.metrics import mean_squared_error, r2_score"
   ]
  },
  {
   "cell_type": "markdown",
   "id": "4b4fd3de",
   "metadata": {},
   "source": [
    "## **Load Data**"
   ]
  },
  {
   "cell_type": "code",
   "execution_count": 14,
   "id": "0a924541",
   "metadata": {},
   "outputs": [],
   "source": [
    "df = pd.read_csv(\"../data/laptop_price - dataset.csv\")"
   ]
  },
  {
   "cell_type": "markdown",
   "id": "dbf5a35d",
   "metadata": {},
   "source": [
    "## **Data Preparation**"
   ]
  },
  {
   "cell_type": "markdown",
   "id": "9270cb01",
   "metadata": {},
   "source": [
    "### **Checking Null Values**"
   ]
  },
  {
   "cell_type": "code",
   "execution_count": null,
   "id": "500e415a",
   "metadata": {},
   "outputs": [],
   "source": [
    "print(df.isnull().sum())"
   ]
  },
  {
   "cell_type": "markdown",
   "id": "db8af78e",
   "metadata": {},
   "source": [
    "### **Simplify 'Memory' to numeric**"
   ]
  },
  {
   "cell_type": "code",
   "execution_count": null,
   "id": "19bb02d6",
   "metadata": {},
   "outputs": [],
   "source": [
    "df['Memory'] = df['Memory'].str.replace('GB', '').str.replace('Flash Storage', '').str.replace(' ', '')\n",
    "df['Memory'] = df['Memory'].str.extract('(\\d+)').astype(float)"
   ]
  },
  {
   "cell_type": "markdown",
   "id": "7c20a820",
   "metadata": {},
   "source": [
    "### **Convert screen resolution into pixels**"
   ]
  },
  {
   "cell_type": "code",
   "execution_count": 18,
   "id": "ab78d30b",
   "metadata": {},
   "outputs": [],
   "source": [
    "df['Resolution_Width'] = df['ScreenResolution'].str.extract(r'(\\d+)x\\d+').astype(float)\n",
    "df['Resolution_Height'] = df['ScreenResolution'].str.extract(r'\\d+x(\\d+)').astype(float)"
   ]
  },
  {
   "cell_type": "markdown",
   "id": "51fc48f1",
   "metadata": {},
   "source": [
    "### **Drop unused columns**"
   ]
  },
  {
   "cell_type": "code",
   "execution_count": 19,
   "id": "beb95b7e",
   "metadata": {},
   "outputs": [],
   "source": [
    "df.drop(['Product', 'ScreenResolution', 'GPU_Type', 'CPU_Type'], axis=1, inplace=True)"
   ]
  },
  {
   "cell_type": "markdown",
   "id": "cd8223ae",
   "metadata": {},
   "source": [
    "### **Encode categorical data**"
   ]
  },
  {
   "cell_type": "code",
   "execution_count": 20,
   "id": "6165eaae",
   "metadata": {},
   "outputs": [],
   "source": [
    "le = LabelEncoder()\n",
    "categorical_cols = ['Company', 'TypeName', 'CPU_Company', 'GPU_Company', 'OpSys']\n",
    "for col in categorical_cols:\n",
    "    df[col] = le.fit_transform(df[col])"
   ]
  },
  {
   "cell_type": "markdown",
   "id": "625019fa",
   "metadata": {},
   "source": [
    "### **Data Seperation As X and Y**"
   ]
  },
  {
   "cell_type": "code",
   "execution_count": 22,
   "id": "3c551434",
   "metadata": {},
   "outputs": [],
   "source": [
    "y = df[\"Price (Euro)\"]\n",
    "x = df.drop(\"Price (Euro)\", axis=1)"
   ]
  },
  {
   "cell_type": "markdown",
   "id": "9f598045",
   "metadata": {},
   "source": [
    "### **Data spliting**"
   ]
  },
  {
   "cell_type": "code",
   "execution_count": 23,
   "id": "2fa60c03",
   "metadata": {},
   "outputs": [],
   "source": [
    "x_train, x_test, y_train, y_test = train_test_split(x, y, test_size=0.2, random_state=42)"
   ]
  },
  {
   "cell_type": "markdown",
   "id": "0665d8c4",
   "metadata": {},
   "source": [
    "## **Model Building**"
   ]
  },
  {
   "cell_type": "markdown",
   "id": "9c321d9c",
   "metadata": {},
   "source": [
    "### **Linear Regression**"
   ]
  },
  {
   "cell_type": "code",
   "execution_count": 24,
   "id": "142a495f",
   "metadata": {},
   "outputs": [],
   "source": [
    "lr = LinearRegression()\n",
    "lr.fit(x_train, y_train)\n",
    "y_pred_lr = lr.predict(x_test)"
   ]
  },
  {
   "cell_type": "markdown",
   "id": "87fd1706",
   "metadata": {},
   "source": [
    "### **Linear Regression metrics**"
   ]
  },
  {
   "cell_type": "code",
   "execution_count": null,
   "id": "22eb5ac3",
   "metadata": {},
   "outputs": [],
   "source": [
    "print(\"Linear Regression:\")\n",
    "print(\"R^2 Score:\", r2_score(y_test, y_pred_lr))\n",
    "print(\"RMSE:\", np.sqrt(mean_squared_error(y_test, y_pred_lr)))"
   ]
  }
 ],
 "metadata": {
  "kernelspec": {
   "display_name": "base",
   "language": "python",
   "name": "python3"
  },
  "language_info": {
   "codemirror_mode": {
    "name": "ipython",
    "version": 3
   },
   "file_extension": ".py",
   "mimetype": "text/x-python",
   "name": "python",
   "nbconvert_exporter": "python",
   "pygments_lexer": "ipython3",
   "version": "3.12.7"
  }
 },
 "nbformat": 4,
 "nbformat_minor": 5
}
