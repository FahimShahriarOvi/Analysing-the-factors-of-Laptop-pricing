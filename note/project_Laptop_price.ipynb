{
 "cells": [
  {
   "cell_type": "markdown",
   "id": "770b94fc",
   "metadata": {},
   "source": [
    "# **Analysing the factors of Laptop pricing**"
   ]
  },
  {
   "cell_type": "markdown",
   "id": "975de5cc",
   "metadata": {},
   "source": [
    "## **Import Packages**"
   ]
  },
  {
   "cell_type": "code",
   "execution_count": 38,
   "id": "d30cec7d",
   "metadata": {},
   "outputs": [],
   "source": [
    "import pandas as pd\n",
    "import numpy as np\n",
    "import matplotlib.pyplot as plt\n",
    "import seaborn as sns\n",
    "from sklearn.model_selection import train_test_split\n",
    "from sklearn.linear_model import LinearRegression\n",
    "from sklearn.preprocessing import LabelEncoder\n",
    "from sklearn.metrics import mean_squared_error, r2_score\n",
    "from sklearn.metrics import mean_absolute_error"
   ]
  },
  {
   "cell_type": "markdown",
   "id": "4b4fd3de",
   "metadata": {},
   "source": [
    "## **Load Data**"
   ]
  },
  {
   "cell_type": "code",
   "execution_count": 39,
   "id": "0a924541",
   "metadata": {},
   "outputs": [
    {
     "data": {
      "text/html": [
       "<div>\n",
       "<style scoped>\n",
       "    .dataframe tbody tr th:only-of-type {\n",
       "        vertical-align: middle;\n",
       "    }\n",
       "\n",
       "    .dataframe tbody tr th {\n",
       "        vertical-align: top;\n",
       "    }\n",
       "\n",
       "    .dataframe thead th {\n",
       "        text-align: right;\n",
       "    }\n",
       "</style>\n",
       "<table border=\"1\" class=\"dataframe\">\n",
       "  <thead>\n",
       "    <tr style=\"text-align: right;\">\n",
       "      <th></th>\n",
       "      <th>Company</th>\n",
       "      <th>Product</th>\n",
       "      <th>TypeName</th>\n",
       "      <th>Inches</th>\n",
       "      <th>ScreenResolution</th>\n",
       "      <th>CPU_Company</th>\n",
       "      <th>CPU_Type</th>\n",
       "      <th>CPU_Frequency (GHz)</th>\n",
       "      <th>RAM (GB)</th>\n",
       "      <th>Memory</th>\n",
       "      <th>GPU_Company</th>\n",
       "      <th>GPU_Type</th>\n",
       "      <th>OpSys</th>\n",
       "      <th>Weight (kg)</th>\n",
       "      <th>Price (Euro)</th>\n",
       "    </tr>\n",
       "  </thead>\n",
       "  <tbody>\n",
       "    <tr>\n",
       "      <th>1270</th>\n",
       "      <td>Lenovo</td>\n",
       "      <td>Yoga 500-14ISK</td>\n",
       "      <td>2 in 1 Convertible</td>\n",
       "      <td>14.0</td>\n",
       "      <td>IPS Panel Full HD / Touchscreen 1920x1080</td>\n",
       "      <td>Intel</td>\n",
       "      <td>Core i7 6500U</td>\n",
       "      <td>2.5</td>\n",
       "      <td>4</td>\n",
       "      <td>128GB SSD</td>\n",
       "      <td>Intel</td>\n",
       "      <td>HD Graphics 520</td>\n",
       "      <td>Windows 10</td>\n",
       "      <td>1.80</td>\n",
       "      <td>638.0</td>\n",
       "    </tr>\n",
       "    <tr>\n",
       "      <th>1271</th>\n",
       "      <td>Lenovo</td>\n",
       "      <td>Yoga 900-13ISK</td>\n",
       "      <td>2 in 1 Convertible</td>\n",
       "      <td>13.3</td>\n",
       "      <td>IPS Panel Quad HD+ / Touchscreen 3200x1800</td>\n",
       "      <td>Intel</td>\n",
       "      <td>Core i7 6500U</td>\n",
       "      <td>2.5</td>\n",
       "      <td>16</td>\n",
       "      <td>512GB SSD</td>\n",
       "      <td>Intel</td>\n",
       "      <td>HD Graphics 520</td>\n",
       "      <td>Windows 10</td>\n",
       "      <td>1.30</td>\n",
       "      <td>1499.0</td>\n",
       "    </tr>\n",
       "    <tr>\n",
       "      <th>1272</th>\n",
       "      <td>Lenovo</td>\n",
       "      <td>IdeaPad 100S-14IBR</td>\n",
       "      <td>Notebook</td>\n",
       "      <td>14.0</td>\n",
       "      <td>1366x768</td>\n",
       "      <td>Intel</td>\n",
       "      <td>Celeron Dual Core N3050</td>\n",
       "      <td>1.6</td>\n",
       "      <td>2</td>\n",
       "      <td>64GB Flash Storage</td>\n",
       "      <td>Intel</td>\n",
       "      <td>HD Graphics</td>\n",
       "      <td>Windows 10</td>\n",
       "      <td>1.50</td>\n",
       "      <td>229.0</td>\n",
       "    </tr>\n",
       "    <tr>\n",
       "      <th>1273</th>\n",
       "      <td>HP</td>\n",
       "      <td>15-AC110nv (i7-6500U/6GB/1TB/Radeon</td>\n",
       "      <td>Notebook</td>\n",
       "      <td>15.6</td>\n",
       "      <td>1366x768</td>\n",
       "      <td>Intel</td>\n",
       "      <td>Core i7 6500U</td>\n",
       "      <td>2.5</td>\n",
       "      <td>6</td>\n",
       "      <td>1TB HDD</td>\n",
       "      <td>AMD</td>\n",
       "      <td>Radeon R5 M330</td>\n",
       "      <td>Windows 10</td>\n",
       "      <td>2.19</td>\n",
       "      <td>764.0</td>\n",
       "    </tr>\n",
       "    <tr>\n",
       "      <th>1274</th>\n",
       "      <td>Asus</td>\n",
       "      <td>X553SA-XX031T (N3050/4GB/500GB/W10)</td>\n",
       "      <td>Notebook</td>\n",
       "      <td>15.6</td>\n",
       "      <td>1366x768</td>\n",
       "      <td>Intel</td>\n",
       "      <td>Celeron Dual Core N3050</td>\n",
       "      <td>1.6</td>\n",
       "      <td>4</td>\n",
       "      <td>500GB HDD</td>\n",
       "      <td>Intel</td>\n",
       "      <td>HD Graphics</td>\n",
       "      <td>Windows 10</td>\n",
       "      <td>2.20</td>\n",
       "      <td>369.0</td>\n",
       "    </tr>\n",
       "  </tbody>\n",
       "</table>\n",
       "</div>"
      ],
      "text/plain": [
       "     Company                              Product            TypeName  Inches  \\\n",
       "1270  Lenovo                       Yoga 500-14ISK  2 in 1 Convertible    14.0   \n",
       "1271  Lenovo                       Yoga 900-13ISK  2 in 1 Convertible    13.3   \n",
       "1272  Lenovo                   IdeaPad 100S-14IBR            Notebook    14.0   \n",
       "1273      HP  15-AC110nv (i7-6500U/6GB/1TB/Radeon            Notebook    15.6   \n",
       "1274    Asus  X553SA-XX031T (N3050/4GB/500GB/W10)            Notebook    15.6   \n",
       "\n",
       "                                ScreenResolution CPU_Company  \\\n",
       "1270   IPS Panel Full HD / Touchscreen 1920x1080       Intel   \n",
       "1271  IPS Panel Quad HD+ / Touchscreen 3200x1800       Intel   \n",
       "1272                                    1366x768       Intel   \n",
       "1273                                    1366x768       Intel   \n",
       "1274                                    1366x768       Intel   \n",
       "\n",
       "                     CPU_Type  CPU_Frequency (GHz)  RAM (GB)  \\\n",
       "1270            Core i7 6500U                  2.5         4   \n",
       "1271            Core i7 6500U                  2.5        16   \n",
       "1272  Celeron Dual Core N3050                  1.6         2   \n",
       "1273            Core i7 6500U                  2.5         6   \n",
       "1274  Celeron Dual Core N3050                  1.6         4   \n",
       "\n",
       "                  Memory GPU_Company         GPU_Type       OpSys  \\\n",
       "1270           128GB SSD       Intel  HD Graphics 520  Windows 10   \n",
       "1271           512GB SSD       Intel  HD Graphics 520  Windows 10   \n",
       "1272  64GB Flash Storage       Intel      HD Graphics  Windows 10   \n",
       "1273             1TB HDD         AMD   Radeon R5 M330  Windows 10   \n",
       "1274           500GB HDD       Intel      HD Graphics  Windows 10   \n",
       "\n",
       "      Weight (kg)  Price (Euro)  \n",
       "1270         1.80         638.0  \n",
       "1271         1.30        1499.0  \n",
       "1272         1.50         229.0  \n",
       "1273         2.19         764.0  \n",
       "1274         2.20         369.0  "
      ]
     },
     "execution_count": 39,
     "metadata": {},
     "output_type": "execute_result"
    }
   ],
   "source": [
    "df = pd.read_csv(\"../data/laptop_price - dataset.csv\")\n",
    "df.tail()"
   ]
  },
  {
   "cell_type": "markdown",
   "id": "dbf5a35d",
   "metadata": {},
   "source": [
    "## **Data Preparation**"
   ]
  },
  {
   "cell_type": "markdown",
   "id": "9270cb01",
   "metadata": {},
   "source": [
    "### **Checking Null Values**"
   ]
  },
  {
   "cell_type": "code",
   "execution_count": null,
   "id": "500e415a",
   "metadata": {},
   "outputs": [],
   "source": [
    "print(df.isnull().sum())"
   ]
  },
  {
   "cell_type": "markdown",
   "id": "db8af78e",
   "metadata": {},
   "source": [
    "### **Simplify 'Memory' to numeric**"
   ]
  },
  {
   "cell_type": "code",
   "execution_count": 40,
   "id": "19bb02d6",
   "metadata": {},
   "outputs": [],
   "source": [
    "df['Memory'] = df['Memory'].str.replace('TB', '000', regex=False)\n",
    "df['Memory'] = df['Memory'].str.replace('GB', '', regex=False)\n",
    "df['Memory'] = df['Memory'].str.replace('Flash Storage', '', regex=False)\n",
    "df['Memory'] = df['Memory'].str.replace(' ', '', regex=False)\n",
    "df['Memory'] = df['Memory'].str.extract(r'(\\d+)').astype(float)"
   ]
  },
  {
   "cell_type": "markdown",
   "id": "7c20a820",
   "metadata": {},
   "source": [
    "### **Convert screen resolution into pixels**"
   ]
  },
  {
   "cell_type": "code",
   "execution_count": 41,
   "id": "ab78d30b",
   "metadata": {},
   "outputs": [],
   "source": [
    "df['Resolution_Width'] = df['ScreenResolution'].str.extract(r'(\\d+)x\\d+').astype(float)\n",
    "df['Resolution_Height'] = df['ScreenResolution'].str.extract(r'\\d+x(\\d+)').astype(float)"
   ]
  },
  {
   "cell_type": "markdown",
   "id": "51fc48f1",
   "metadata": {},
   "source": [
    "### **Drop unused columns**"
   ]
  },
  {
   "cell_type": "code",
   "execution_count": 42,
   "id": "beb95b7e",
   "metadata": {},
   "outputs": [],
   "source": [
    "df.drop(['Product', 'ScreenResolution', 'GPU_Type', 'CPU_Type'], axis=1, inplace=True)"
   ]
  },
  {
   "cell_type": "markdown",
   "id": "cd8223ae",
   "metadata": {},
   "source": [
    "### **Encode categorical data**"
   ]
  },
  {
   "cell_type": "code",
   "execution_count": 43,
   "id": "6165eaae",
   "metadata": {},
   "outputs": [],
   "source": [
    "le = LabelEncoder()\n",
    "categorical_cols = ['Company', 'TypeName', 'CPU_Company', 'GPU_Company', 'OpSys']\n",
    "for col in categorical_cols:\n",
    "    df[col] = le.fit_transform(df[col])"
   ]
  },
  {
   "cell_type": "markdown",
   "id": "625019fa",
   "metadata": {},
   "source": [
    "### **Data Seperation As X and Y**"
   ]
  },
  {
   "cell_type": "code",
   "execution_count": 44,
   "id": "3c551434",
   "metadata": {},
   "outputs": [],
   "source": [
    "y = df[\"Price (Euro)\"]\n",
    "x = df.drop(\"Price (Euro)\", axis=1)"
   ]
  },
  {
   "cell_type": "markdown",
   "id": "9f598045",
   "metadata": {},
   "source": [
    "### **Data spliting**"
   ]
  },
  {
   "cell_type": "code",
   "execution_count": 45,
   "id": "2fa60c03",
   "metadata": {},
   "outputs": [],
   "source": [
    "x_train, x_test, y_train, y_test = train_test_split(x, y, test_size=0.2, random_state=42)"
   ]
  },
  {
   "cell_type": "markdown",
   "id": "0665d8c4",
   "metadata": {},
   "source": [
    "## **Model Building**"
   ]
  },
  {
   "cell_type": "markdown",
   "id": "9c321d9c",
   "metadata": {},
   "source": [
    "### **Linear Regression**"
   ]
  },
  {
   "cell_type": "code",
   "execution_count": 46,
   "id": "142a495f",
   "metadata": {},
   "outputs": [],
   "source": [
    "lr = LinearRegression()\n",
    "lr.fit(x_train, y_train)\n",
    "y_pred_lr = lr.predict(x_test)"
   ]
  },
  {
   "cell_type": "markdown",
   "id": "87fd1706",
   "metadata": {},
   "source": [
    "### **Linear Regression metrics**"
   ]
  },
  {
   "cell_type": "code",
   "execution_count": null,
   "id": "22eb5ac3",
   "metadata": {},
   "outputs": [],
   "source": [
    "print(\"Linear Regression:\")\n",
    "print(\"R^2 Score:\", r2_score(y_test, y_pred_lr))\n",
    "print(\"RMSE:\", np.sqrt(mean_squared_error(y_test, y_pred_lr)))\n",
    "print(\"MAE:\",mean_absolute_error(y_test, y_pred_lr))"
   ]
  },
  {
   "cell_type": "markdown",
   "id": "c13827e2",
   "metadata": {},
   "source": [
    "## **Plotting**"
   ]
  },
  {
   "cell_type": "code",
   "execution_count": null,
   "id": "160523df",
   "metadata": {},
   "outputs": [],
   "source": [
    "plt.figure(figsize=(8, 6))\n",
    "sns.scatterplot(x=y_test, y= y_pred_lr, color='orange', label='Predicted Points')\n",
    "\n",
    "# Plot the ideal line where prediction == actual\n",
    "plt.plot([y_test.min(), y_test.max()],\n",
    "         [y_test.min(), y_test.max()],\n",
    "         color='red', linestyle='--', label='Perfect Prediction')\n",
    "\n",
    "plt.title(\"Actual vs Predicted Laptop Prices\")\n",
    "plt.xlabel(\"Actual Price (EUR)\")\n",
    "plt.ylabel(\"Predicted Price (EUR)\")\n",
    "plt.legend()\n",
    "plt.grid(True)\n",
    "plt.tight_layout()\n",
    "plt.show()"
   ]
  },
  {
   "cell_type": "code",
   "execution_count": null,
   "id": "d3540ddd",
   "metadata": {},
   "outputs": [],
   "source": [
    "residuals = y_test - y_pred_lr  # Actual - Predicted\n",
    "plt.scatter(y_pred_lr, residuals, alpha=0.5)\n",
    "plt.axhline(y=0, color='red', linestyle='--')\n",
    "plt.title(\"Residuals vs Predicted Price\")\n",
    "plt.xlabel(\"Predicted Price (EUR)\")\n",
    "plt.ylabel(\"Residuals\")\n",
    "plt.grid(True)\n",
    "plt.show()\n"
   ]
  }
 ],
 "metadata": {
  "kernelspec": {
   "display_name": "base",
   "language": "python",
   "name": "python3"
  },
  "language_info": {
   "codemirror_mode": {
    "name": "ipython",
    "version": 3
   },
   "file_extension": ".py",
   "mimetype": "text/x-python",
   "name": "python",
   "nbconvert_exporter": "python",
   "pygments_lexer": "ipython3",
   "version": "3.12.7"
  }
 },
 "nbformat": 4,
 "nbformat_minor": 5
}
