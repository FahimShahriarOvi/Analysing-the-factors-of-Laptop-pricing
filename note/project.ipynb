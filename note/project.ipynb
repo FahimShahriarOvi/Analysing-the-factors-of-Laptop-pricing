{
 "cells": [
  {
   "cell_type": "markdown",
<<<<<<< HEAD
   "id": "2b9266cd",
=======
   "id": "b4070c24",
>>>>>>> 2ab1ab0 (project file)
   "metadata": {},
   "source": [
    "# **Analysing the factors of Laptop pricing**"
   ]
  },
  {
   "cell_type": "markdown",
<<<<<<< HEAD
   "id": "df2cc537",
=======
   "id": "14b1b727",
>>>>>>> 2ab1ab0 (project file)
   "metadata": {},
   "source": [
    "## **Import Packages**"
   ]
  },
  {
   "cell_type": "code",
<<<<<<< HEAD
   "execution_count": 12,
   "id": "fc0c8eca",
=======
   "execution_count": null,
   "id": "d96e6b29",
>>>>>>> 2ab1ab0 (project file)
   "metadata": {},
   "outputs": [],
   "source": [
    "import pandas as pd\n",
    "from sklearn.model_selection import train_test_split\n",
    "from sklearn.linear_model import LinearRegression"
   ]
  },
  {
   "cell_type": "markdown",
<<<<<<< HEAD
   "id": "6032ee07",
=======
   "id": "e51b2ec2",
>>>>>>> 2ab1ab0 (project file)
   "metadata": {},
   "source": [
    "## **Load Data**"
   ]
  },
  {
   "cell_type": "code",
<<<<<<< HEAD
   "execution_count": 2,
   "id": "4b196d6c",
=======
   "execution_count": null,
   "id": "399a425f",
>>>>>>> 2ab1ab0 (project file)
   "metadata": {},
   "outputs": [],
   "source": [
    "df = pd.read_csv(\"../data/laptop_price - dataset.csv\")"
   ]
  },
  {
   "cell_type": "markdown",
<<<<<<< HEAD
   "id": "884cbdc1",
=======
   "id": "73e32fed",
>>>>>>> 2ab1ab0 (project file)
   "metadata": {},
   "source": [
    "## **Data Preparation**"
   ]
  },
  {
   "cell_type": "markdown",
<<<<<<< HEAD
   "id": "3c9a31b2",
=======
   "id": "6315cda4",
>>>>>>> 2ab1ab0 (project file)
   "metadata": {},
   "source": [
    "### **Data Seperation As X and Y**"
   ]
  },
  {
   "cell_type": "code",
<<<<<<< HEAD
   "execution_count": 3,
   "id": "f586712b",
=======
   "execution_count": null,
   "id": "4ae123e5",
>>>>>>> 2ab1ab0 (project file)
   "metadata": {},
   "outputs": [],
   "source": [
    "y = df[\"Price (Euro)\"]\n",
    "x = df.drop(\"Price (Euro)\", axis=1)"
   ]
  },
  {
   "cell_type": "markdown",
<<<<<<< HEAD
   "id": "f6c69eec",
=======
   "id": "d4c13eb3",
>>>>>>> 2ab1ab0 (project file)
   "metadata": {},
   "source": [
    "### **Data spliting**"
   ]
  },
  {
   "cell_type": "code",
<<<<<<< HEAD
   "execution_count": 9,
   "id": "25e88cdd",
=======
   "execution_count": null,
   "id": "cf4d4c9a",
>>>>>>> 2ab1ab0 (project file)
   "metadata": {},
   "outputs": [],
   "source": [
    "x_train, x_test, y_train, y_test = train_test_split(x, y, test_size=0.2, random_state=42)"
   ]
  },
  {
   "cell_type": "markdown",
<<<<<<< HEAD
   "id": "2b0f17ff",
=======
   "id": "e883e988",
>>>>>>> 2ab1ab0 (project file)
   "metadata": {},
   "source": [
    "## **Model Building**"
   ]
  },
  {
   "cell_type": "markdown",
<<<<<<< HEAD
   "id": "53cb5511",
=======
   "id": "7fe94b16",
>>>>>>> 2ab1ab0 (project file)
   "metadata": {},
   "source": [
    "### **Linear Regression**"
   ]
  },
  {
   "cell_type": "code",
   "execution_count": null,
<<<<<<< HEAD
   "id": "0b654b0c",
=======
   "id": "d684e53e",
>>>>>>> 2ab1ab0 (project file)
   "metadata": {},
   "outputs": [],
   "source": [
    "lr = LinearRegression()\n",
    "lr.fit(x_train, y_train)"
   ]
  }
 ],
 "metadata": {
<<<<<<< HEAD
  "kernelspec": {
   "display_name": "base",
   "language": "python",
   "name": "python3"
  },
  "language_info": {
   "codemirror_mode": {
    "name": "ipython",
    "version": 3
   },
   "file_extension": ".py",
   "mimetype": "text/x-python",
   "name": "python",
   "nbconvert_exporter": "python",
   "pygments_lexer": "ipython3",
   "version": "3.12.7"
=======
  "language_info": {
   "name": "python"
>>>>>>> 2ab1ab0 (project file)
  }
 },
 "nbformat": 4,
 "nbformat_minor": 5
}
