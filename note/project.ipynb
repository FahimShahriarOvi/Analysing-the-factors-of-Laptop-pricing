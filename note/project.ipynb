{
 "cells": [
  {
   "cell_type": "markdown",
   "id": "2b9266cd",
   "metadata": {},
   "source": [
    "# **Analysing the factors of Laptop pricing**"
   ]
  },
  {
   "cell_type": "markdown",
   "id": "df2cc537",
   "metadata": {},
   "source": [
    "## **Import Packages**"
   ]
  },
  {
   "cell_type": "code",
   "execution_count": 12,
   "id": "fc0c8eca",
   "metadata": {},
   "outputs": [],
   "source": [
    "import pandas as pd\n",
    "from sklearn.model_selection import train_test_split\n",
    "from sklearn.linear_model import LinearRegression"
   ]
  },
  {
   "cell_type": "markdown",
   "id": "6032ee07",
   "metadata": {},
   "source": [
    "## **Load Data**"
   ]
  },
  {
   "cell_type": "code",
   "execution_count": 2,
   "id": "4b196d6c",
   "metadata": {},
   "outputs": [],
   "source": [
    "df = pd.read_csv(\"../data/laptop_price - dataset.csv\")"
   ]
  },
  {
   "cell_type": "markdown",
   "id": "884cbdc1",
   "metadata": {},
   "source": [
    "## **Data Preparation**"
   ]
  },
  {
   "cell_type": "markdown",
   "id": "3c9a31b2",
   "metadata": {},
   "source": [
    "### **Data Seperation As X and Y**"
   ]
  },
  {
   "cell_type": "code",
   "execution_count": 3,
   "id": "f586712b",
   "metadata": {},
   "outputs": [],
   "source": [
    "y = df[\"Price (Euro)\"]\n",
    "x = df.drop(\"Price (Euro)\", axis=1)"
   ]
  },
  {
   "cell_type": "markdown",
   "id": "f6c69eec",
   "metadata": {},
   "source": [
    "### **Data spliting**"
   ]
  },
  {
   "cell_type": "code",
   "execution_count": 9,
   "id": "25e88cdd",
   "metadata": {},
   "outputs": [],
   "source": [
    "x_train, x_test, y_train, y_test = train_test_split(x, y, test_size=0.2, random_state=42)"
   ]
  },
  {
   "cell_type": "markdown",
   "id": "2b0f17ff",
   "metadata": {},
   "source": [
    "## **Model Building**"
   ]
  },
  {
   "cell_type": "markdown",
   "id": "53cb5511",
   "metadata": {},
   "source": [
    "### **Linear Regression**"
   ]
  },
  {
   "cell_type": "code",
   "execution_count": null,
   "id": "0b654b0c",
   "metadata": {},
   "outputs": [],
   "source": [
    "lr = LinearRegression()\n",
    "lr.fit(x_train, y_train)\n"
   ]
  }
 ],
 "metadata": {
  "kernelspec": {
   "display_name": "base",
   "language": "python",
   "name": "python3"
  },
  "language_info": {
   "codemirror_mode": {
    "name": "ipython",
    "version": 3
   },
   "file_extension": ".py",
   "mimetype": "text/x-python",
   "name": "python",
   "nbconvert_exporter": "python",
   "pygments_lexer": "ipython3",
   "version": "3.12.7"
  }
 },
 "nbformat": 4,
 "nbformat_minor": 5
}
